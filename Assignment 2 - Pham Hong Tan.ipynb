{
 "cells": [
  {
   "cell_type": "markdown",
   "id": "7add0468-e133-4833-b4dc-d7bfb9e3879a",
   "metadata": {},
   "source": [
    "# Name: Pham Hong Tan\n",
    "## Date: February 9, 2025"
   ]
  },
  {
   "cell_type": "code",
   "execution_count": 21,
   "id": "6ee3a7f8-8f9c-47ed-8d46-879eca0ecdf0",
   "metadata": {},
   "outputs": [
    {
     "name": "stdout",
     "output_type": "stream",
     "text": [
      "The result of the calculation was:\n",
      "\t149769\n"
     ]
    }
   ],
   "source": [
    "# Exercise 1\n",
    "# Define variables:\n",
    "number1 = 100\n",
    "number2 = 29\n",
    "# Sum the numbers and multiply by 3\n",
    "result1 = (number1 + number2) * 3\n",
    "# Calculate the 2nd exponent of the previous number\n",
    "square_result1 = pow(result1, 2)\n",
    "# print result\n",
    "print(f\"The result of the calculation was:\\n\\t{square_result1}\")"
   ]
  },
  {
   "cell_type": "code",
   "execution_count": 22,
   "id": "090891ba-7655-43a0-9550-d13d6784ebc9",
   "metadata": {},
   "outputs": [
    {
     "name": "stdin",
     "output_type": "stream",
     "text": [
      "Enter your name:  Tan\n",
      "Enter your year of birth:  1987\n",
      "Enter your age:  38\n"
     ]
    },
    {
     "name": "stdout",
     "output_type": "stream",
     "text": [
      "\n",
      "Name: Tan \n",
      "Year of birth: 1987 \n",
      "Age: 38 \n",
      "Password: 87Tan1444\n"
     ]
    }
   ],
   "source": [
    "# Exercise 2\n",
    "# Ask the User:\n",
    "name = input(\"Enter your name: \")\n",
    "year_birth = input(\"Enter your year of birth: \")\n",
    "age = int(input(\"Enter your age: \"))\n",
    "# Create the Password:\n",
    "password = year_birth[-2:] + name[0:3] + str(pow(age,2))\n",
    "# Print the Result\n",
    "print(f\"\\nName: {name} \\nYear of birth: {year_birth} \\nAge: {age} \\nPassword: {password}\")"
   ]
  },
  {
   "cell_type": "code",
   "execution_count": 23,
   "id": "539fd995-3d4f-45b9-bddc-9c0cd092ce52",
   "metadata": {},
   "outputs": [
    {
     "name": "stdin",
     "output_type": "stream",
     "text": [
      "Enter fist number:  5\n",
      "Enter second number:  6\n"
     ]
    },
    {
     "name": "stdout",
     "output_type": "stream",
     "text": [
      "One of the numbers is even.\n"
     ]
    }
   ],
   "source": [
    "# Exercise 3\n",
    "# Ask the User:\n",
    "number1 = int(input(\"Enter fist number: \"))\n",
    "number2 = int(input(\"Enter second number: \"))\n",
    "if (number1 + number2)%2 !=0:\n",
    "    print(\"One of the numbers is even.\")\n",
    "elif number1 % 2 + number2 % 2 == 0:\n",
    "    print(\"Both numbers are even.\")\n",
    "else:\n",
    "    print(\"Both numbers are odd.\")"
   ]
  },
  {
   "cell_type": "code",
   "execution_count": 24,
   "id": "184c125f-7012-4e71-a07b-bddbfca64b65",
   "metadata": {},
   "outputs": [
    {
     "name": "stdin",
     "output_type": "stream",
     "text": [
      "Give an integer:  5\n"
     ]
    },
    {
     "name": "stdout",
     "output_type": "stream",
     "text": [
      "The sum was: 10\n"
     ]
    }
   ],
   "source": [
    "# Exercise 4\n",
    "# Ask the User:\n",
    "number = int(input(\"Give an integer: \"))\n",
    "result = 0\n",
    "for i in range(number):\n",
    "    result +=i\n",
    "print(\"The sum was:\", result)\n"
   ]
  },
  {
   "cell_type": "code",
   "execution_count": 25,
   "id": "422a410c-5ab9-4064-828f-0b268bfc76a3",
   "metadata": {},
   "outputs": [
    {
     "name": "stdin",
     "output_type": "stream",
     "text": [
      "Player:  5\n"
     ]
    },
    {
     "name": "stdout",
     "output_type": "stream",
     "text": [
      "Try a greater number.\n"
     ]
    },
    {
     "name": "stdin",
     "output_type": "stream",
     "text": [
      "Player:  7\n"
     ]
    },
    {
     "name": "stdout",
     "output_type": "stream",
     "text": [
      "That’s right! Number of tries:  2\n"
     ]
    }
   ],
   "source": [
    "# Exercise 5\n",
    "import random\n",
    "Dealer_number = random.randint(0,10)\n",
    "Player_number = int(input(\"Player: \"))\n",
    "i=1\n",
    "while Player_number!=Dealer_number:\n",
    "    i+=1\n",
    "    if Player_number>Dealer_number:\n",
    "        print(\"Try a smaller number.\")\n",
    "        Player_number = int(input(\"Player: \"))\n",
    "    else:\n",
    "         print(\"Try a greater number.\")\n",
    "         Player_number = int(input(\"Player: \"))\n",
    "\n",
    "print(\"That’s right! Number of tries: \", i)        "
   ]
  },
  {
   "cell_type": "code",
   "execution_count": 26,
   "id": "15e7bdc0-367c-4faf-914f-67d78655f6b3",
   "metadata": {},
   "outputs": [
    {
     "name": "stdin",
     "output_type": "stream",
     "text": [
      "Player1:  5\n"
     ]
    },
    {
     "name": "stdout",
     "output_type": "stream",
     "text": [
      "Try a greater number.\n"
     ]
    },
    {
     "name": "stdin",
     "output_type": "stream",
     "text": [
      "Player1:  8\n"
     ]
    },
    {
     "name": "stdout",
     "output_type": "stream",
     "text": [
      "That’s right! Number of tries: 2\n",
      "\n"
     ]
    },
    {
     "name": "stdin",
     "output_type": "stream",
     "text": [
      "Player2:  3\n"
     ]
    },
    {
     "name": "stdout",
     "output_type": "stream",
     "text": [
      "Try a greater number.\n"
     ]
    },
    {
     "name": "stdin",
     "output_type": "stream",
     "text": [
      "Player2:  7\n"
     ]
    },
    {
     "name": "stdout",
     "output_type": "stream",
     "text": [
      "Try a greater number.\n"
     ]
    },
    {
     "name": "stdin",
     "output_type": "stream",
     "text": [
      "Player2:  8\n"
     ]
    },
    {
     "name": "stdout",
     "output_type": "stream",
     "text": [
      "That’s right! Number of tries: 3\n",
      "\n",
      "Winer is Player1!\n"
     ]
    }
   ],
   "source": [
    "# Exercise 5.2\n",
    "import random\n",
    "Dealer_number = random.randint(0,10)\n",
    "# Player 1\n",
    "Player_number1 = int(input(\"Player1: \"))\n",
    "i1=1\n",
    "while Player_number1!=Dealer_number:\n",
    "    i1+=1\n",
    "    if Player_number1>Dealer_number:\n",
    "        print(\"Try a smaller number.\")\n",
    "        Player_number1 = int(input(\"Player1: \"))\n",
    "    else:\n",
    "         print(\"Try a greater number.\")\n",
    "         Player_number1 = int(input(\"Player1: \"))\n",
    "\n",
    "print(f\"That’s right! Number of tries: {i1}\\n\")\n",
    "\n",
    "# Player 2\n",
    "Player_number2 = int(input(\"Player2: \"))\n",
    "i2=1\n",
    "while Player_number2!=Dealer_number:\n",
    "    i2+=1\n",
    "    if Player_number2>Dealer_number:\n",
    "        print(\"Try a smaller number.\")\n",
    "        Player_number2 = int(input(\"Player2: \"))\n",
    "    else:\n",
    "         print(\"Try a greater number.\")\n",
    "         Player_number2 = int(input(\"Player2: \"))\n",
    "\n",
    "print(f\"That’s right! Number of tries: {i2}\\n\") \n",
    "\n",
    "# comparing\n",
    "if i1<i2:\n",
    "    print(\"Winer is Player1!\")\n",
    "elif i1>i2:\n",
    "    print(\"Winer is Player2!\")\n",
    "else:\n",
    "    print(\"Both are equal!\")\n"
   ]
  }
 ],
 "metadata": {
  "kernelspec": {
   "display_name": "Python [conda env:base] *",
   "language": "python",
   "name": "conda-base-py"
  },
  "language_info": {
   "codemirror_mode": {
    "name": "ipython",
    "version": 3
   },
   "file_extension": ".py",
   "mimetype": "text/x-python",
   "name": "python",
   "nbconvert_exporter": "python",
   "pygments_lexer": "ipython3",
   "version": "3.12.7"
  }
 },
 "nbformat": 4,
 "nbformat_minor": 5
}
